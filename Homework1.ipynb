{
 "cells": [
  {
   "cell_type": "code",
   "execution_count": 39,
   "metadata": {
    "collapsed": false
   },
   "outputs": [
    {
     "name": "stdout",
     "output_type": "stream",
     "text": [
      "(0, 1)\n",
      "(1, 1)\n",
      "(1, 2)\n",
      "(2, 3)\n",
      "(3, 5)\n",
      "(5, 8)\n",
      "(8, 13)\n",
      "(13, 21)\n",
      "(21, 34)\n",
      "(34, 55)\n",
      "(55, 89)\n"
     ]
    }
   ],
   "source": [
    "#Create a function that prints the first n Fibonacci numbers (0, 1, 1, 2, 3, 5, 8, 13, 21, 34)\n",
    "#function should accept n as a parameter, to print the first n Fibonacci numbers\n",
    "#Use loops\n",
    "#Print two numbers on each line\n",
    "\n",
    "def funcFib(n):\n",
    "    a=0\n",
    "    b=1\n",
    "    if(n==1):\n",
    "        print(0)\n",
    "    elif(n==2):\n",
    "        print(1)\n",
    "    else:\n",
    "        for i in range(1,n):\n",
    "            old_a=a\n",
    "            old_b=b\n",
    "            a=old_b\n",
    "            b=old_a+old_b\n",
    "            print(old_a,old_b)\n",
    "            i=i+1\n",
    "        \n",
    "funcFib(12)\n",
    "    "
   ]
  },
  {
   "cell_type": "code",
   "execution_count": 70,
   "metadata": {
    "collapsed": false
   },
   "outputs": [
    {
     "data": {
      "text/plain": [
       "'palindrome'"
      ]
     },
     "execution_count": 70,
     "metadata": {},
     "output_type": "execute_result"
    }
   ],
   "source": [
    "#Write a snippet of code to check whether a string is a palindrome\n",
    "\n",
    "string=\"AMANAPLANACANALPANAMA\"\n",
    "length=len(string)\n",
    "rang=length//2\n",
    "\n",
    "for i in range(1,rang+1):\n",
    "    if string[i-1]==string[length-i]:\n",
    "        outcome=\"palindrome\"\n",
    "    else:\n",
    "        outcome=\"not palindrome\"\n",
    "        break\n",
    "\n",
    "outcome"
   ]
  }
 ],
 "metadata": {
  "kernelspec": {
   "display_name": "Python 2",
   "language": "python",
   "name": "python2"
  },
  "language_info": {
   "codemirror_mode": {
    "name": "ipython",
    "version": 2
   },
   "file_extension": ".py",
   "mimetype": "text/x-python",
   "name": "python",
   "nbconvert_exporter": "python",
   "pygments_lexer": "ipython2",
   "version": "2.7.11"
  }
 },
 "nbformat": 4,
 "nbformat_minor": 0
}
