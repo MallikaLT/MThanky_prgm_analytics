{
 "cells": [
  {
   "cell_type": "code",
   "execution_count": 45,
   "metadata": {
    "collapsed": false
   },
   "outputs": [
    {
     "name": "stdout",
     "output_type": "stream",
     "text": [
      "['road', 'ribbon', 'riding', 'riding', 'riding,']\n"
     ]
    }
   ],
   "source": [
    "#From the last question of the previous exercise set. Use the same string (lyrics). Print all words beginning with r,\n",
    "#but only use list comprehension this time. Hint: You can use the function startswith on a string to get words that begin \n",
    "#with a certain character\n",
    "\n",
    "lyrics= '''the wind was a torrent of darkness among the gusty trees   \n",
    "the moon was a ghostly galleon tossed upon cloudy seas   \n",
    "the road was a ribbon of moonlight over the purple moor   \n",
    "and the highwayman came riding \n",
    "riding riding \n",
    "the highwayman came riding, up to the old inn-door \n",
    "''' \n",
    "\n",
    "words = lyrics.split(' ')\n",
    "        \n",
    "r_words=[word for word in words if word.startswith('r')]\n",
    "\n",
    "print(r_words)"
   ]
  },
  {
   "cell_type": "code",
   "execution_count": 36,
   "metadata": {
    "collapsed": false
   },
   "outputs": [
    {
     "name": "stdout",
     "output_type": "stream",
     "text": [
      "set(['riding', 'riding,', 'ribbon', 'road'])\n"
     ]
    }
   ],
   "source": [
    "#There are a bunch of repetitions. Lets get rid of them by using a compound data-structure that will enforce uniqueness. \n",
    "#After using this data-structure, print out the unique set of words.\n",
    "\n",
    "lyrics= '''the wind was a torrent of darkness among the gusty trees   \n",
    "the moon was a ghostly galleon tossed upon cloudy seas   \n",
    "the road was a ribbon of moonlight over the purple moor   \n",
    "and the highwayman came riding \n",
    "riding riding \n",
    "the highwayman came riding, up to the old inn-door \n",
    "''' \n",
    "\n",
    "words = lyrics.split(' ')\n",
    "\n",
    "#for word in words:\n",
    " #   word.strip()\n",
    "  #  if word=='' or word==' ':\n",
    "   #     words.remove(word)\n",
    "\n",
    "#for word in words:\n",
    "#    if word[-1]==',':\n",
    " #       print(word[0:-1])\n",
    "  #  else:\n",
    "   #     print(word)\n",
    "\n",
    "#print(words)\n",
    "\n",
    "r_words=[word for word in words if word.startswith('r')]\n",
    "\n",
    "r_set=set(r_words)\n",
    "\n",
    "print(r_set)\n",
    "\n"
   ]
  },
  {
   "cell_type": "code",
   "execution_count": 46,
   "metadata": {
    "collapsed": false
   },
   "outputs": [
    {
     "name": "stdout",
     "output_type": "stream",
     "text": [
      "set(['riding', 'riding,', 'ribbon', 'road'])\n"
     ]
    }
   ],
   "source": [
    "#Rather than build a list and then use another data-structure to enforce uniqueness, try using the data-structure, \n",
    "#that enforces uniqueness, in your list comprehension statement.\n",
    "\n",
    "lyrics= '''the wind was a torrent of darkness among the gusty trees   \n",
    "the moon was a ghostly galleon tossed upon cloudy seas   \n",
    "the road was a ribbon of moonlight over the purple moor   \n",
    "and the highwayman came riding \n",
    "riding riding \n",
    "the highwayman came riding, up to the old inn-door \n",
    "''' \n",
    "\n",
    "words = lyrics.split(' ')\n",
    "\n",
    "r_words_set={word for word in words if word.startswith('r')}\n",
    "\n",
    "print(r_words_set)"
   ]
  },
  {
   "cell_type": "code",
   "execution_count": 54,
   "metadata": {
    "collapsed": false
   },
   "outputs": [
    {
     "name": "stdout",
     "output_type": "stream",
     "text": [
      "defaultdict(<type 'int'>, {'riding': 2, 'riding,': 1, 'ribbon': 1, 'road': 1})\n"
     ]
    }
   ],
   "source": [
    "#Use a dictionary to print all unique words that start with r and print their frequencies as well \n",
    "\n",
    "lyrics= '''the wind was a torrent of darkness among the gusty trees   \n",
    "the moon was a ghostly galleon tossed upon cloudy seas   \n",
    "the road was a ribbon of moonlight over the purple moor   \n",
    "and the highwayman came riding \n",
    "riding riding \n",
    "the highwayman came riding, up to the old inn-door \n",
    "''' \n",
    "\n",
    "words = lyrics.split(' ')\n",
    "\n",
    "from collections import defaultdict\n",
    "\n",
    "dict_r = defaultdict(int)\n",
    "\n",
    "for word in words:\n",
    "    if word.startswith('r'): \n",
    "        dict_r[word] += 1  #need more explanation on this\n",
    "\n",
    "print(dict_r)\n"
   ]
  }
 ],
 "metadata": {
  "kernelspec": {
   "display_name": "Python 2",
   "language": "python",
   "name": "python2"
  },
  "language_info": {
   "codemirror_mode": {
    "name": "ipython",
    "version": 2
   },
   "file_extension": ".py",
   "mimetype": "text/x-python",
   "name": "python",
   "nbconvert_exporter": "python",
   "pygments_lexer": "ipython2",
   "version": "2.7.11"
  }
 },
 "nbformat": 4,
 "nbformat_minor": 0
}
